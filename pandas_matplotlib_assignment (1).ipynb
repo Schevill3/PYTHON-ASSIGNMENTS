{
 "cells": [
  {
   "cell_type": "markdown",
   "id": "1b875e3d",
   "metadata": {},
   "source": [
    "# 📊 Data Analysis with Pandas and Visualization with Matplotlib\n",
    "\n",
    "This notebook is a beginner-friendly assignment that demonstrates how to:\n",
    "- Load and explore a dataset using **pandas**\n",
    "- Perform some **basic data analysis**\n",
    "- Create simple but useful **visualizations** using **matplotlib** and **seaborn**\n",
    "\n",
    "We will be using the **Iris dataset**, a classic dataset in machine learning and statistics.\n"
   ]
  },
  {
   "cell_type": "code",
   "execution_count": null,
   "id": "ed4094ce",
   "metadata": {},
   "outputs": [],
   "source": [
    "# Importing the libraries we need\n",
    "import pandas as pd\n",
    "import matplotlib.pyplot as plt\n",
    "import seaborn as sns\n",
    "import numpy as np\n",
    "from sklearn.datasets import load_iris\n"
   ]
  },
  {
   "cell_type": "markdown",
   "id": "7c9839a5",
   "metadata": {},
   "source": [
    "## Task 1: Load and Explore the Dataset\n",
    "\n",
    "Here we will load the **Iris dataset** using sklearn.  \n",
    "Then we will look at the first few rows, check the structure of the dataset, and see if there are any missing values.\n"
   ]
  },
  {
   "cell_type": "code",
   "execution_count": null,
   "id": "cfe684c2",
   "metadata": {},
   "outputs": [],
   "source": [
    "# Load the Iris dataset\n",
    "iris = load_iris(as_frame=True)\n",
    "df = iris.frame\n",
    "\n",
    "# Look at the first few rows\n",
    "print(\"First 5 rows of the dataset:\")\n",
    "print(df.head())\n",
    "\n",
    "# Info about dataset\n",
    "print(\"\\nDataset Info:\")\n",
    "print(df.info())\n",
    "\n",
    "# Check for missing values\n",
    "print(\"\\nMissing Values:\")\n",
    "print(df.isnull().sum())\n",
    "\n",
    "# The Iris dataset does not have missing values, so no cleaning is needed.\n"
   ]
  },
  {
   "cell_type": "markdown",
   "id": "c4a82a18",
   "metadata": {},
   "source": [
    "## Task 2: Basic Data Analysis\n",
    "\n",
    "We will compute some basic statistics, then group the data by **species** and calculate the average values.\n"
   ]
  },
  {
   "cell_type": "code",
   "execution_count": null,
   "id": "df27d969",
   "metadata": {},
   "outputs": [],
   "source": [
    "# Basic statistics\n",
    "print(\"\\nBasic Statistics:\")\n",
    "print(df.describe())\n",
    "\n",
    "# Group by species and compute mean\n",
    "grouped = df.groupby(\"target\").mean()\n",
    "print(\"\\nGroup Means by Species (0=setosa, 1=versicolor, 2=virginica):\")\n",
    "print(grouped)\n"
   ]
  },
  {
   "cell_type": "markdown",
   "id": "0bc63976",
   "metadata": {},
   "source": [
    "## Task 3: Data Visualization\n",
    "\n",
    "Now we will make **4 types of plots**:\n",
    "1. Line chart (simulated trend of sepal length)  \n",
    "2. Bar chart (average petal length per species)  \n",
    "3. Histogram (distribution of sepal width)  \n",
    "4. Scatter plot (sepal length vs petal length)\n"
   ]
  },
  {
   "cell_type": "code",
   "execution_count": null,
   "id": "1cfb05a3",
   "metadata": {},
   "outputs": [],
   "source": [
    "sns.set(style=\"whitegrid\")\n",
    "\n",
    "# 1. Line chart (cumulative sepal length per species)\n",
    "df_sorted = df.sort_values(by=\"sepal length (cm)\")\n",
    "plt.figure(figsize=(8, 5))\n",
    "for species, data in df_sorted.groupby(\"target\"):\n",
    "    plt.plot(data.index, data[\"sepal length (cm)\"].cumsum(), label=iris.target_names[species])\n",
    "plt.title(\"Cumulative Sepal Length by Species\")\n",
    "plt.xlabel(\"Index\")\n",
    "plt.ylabel(\"Cumulative Sepal Length (cm)\")\n",
    "plt.legend()\n",
    "plt.show()\n",
    "\n",
    "# 2. Bar chart: average petal length per species\n",
    "plt.figure(figsize=(6, 4))\n",
    "sns.barplot(x=\"target\", y=\"petal length (cm)\", data=df, estimator=np.mean, ci=None)\n",
    "plt.title(\"Average Petal Length per Species\")\n",
    "plt.xlabel(\"Species (0=setosa, 1=versicolor, 2=virginica)\")\n",
    "plt.ylabel(\"Average Petal Length (cm)\")\n",
    "plt.show()\n",
    "\n",
    "# 3. Histogram: distribution of sepal width\n",
    "plt.figure(figsize=(6, 4))\n",
    "plt.hist(df[\"sepal width (cm)\"], bins=15, color=\"skyblue\", edgecolor=\"black\")\n",
    "plt.title(\"Distribution of Sepal Width\")\n",
    "plt.xlabel(\"Sepal Width (cm)\")\n",
    "plt.ylabel(\"Frequency\")\n",
    "plt.show()\n",
    "\n",
    "# 4. Scatter plot: sepal length vs petal length\n",
    "plt.figure(figsize=(6, 4))\n",
    "sns.scatterplot(x=\"sepal length (cm)\", y=\"petal length (cm)\", hue=\"target\", palette=\"Set1\", data=df)\n",
    "plt.title(\"Sepal Length vs Petal Length by Species\")\n",
    "plt.xlabel(\"Sepal Length (cm)\")\n",
    "plt.ylabel(\"Petal Length (cm)\")\n",
    "plt.legend(title=\"Species\", labels=iris.target_names)\n",
    "plt.show()\n"
   ]
  }
 ],
 "metadata": {},
 "nbformat": 4,
 "nbformat_minor": 5
}