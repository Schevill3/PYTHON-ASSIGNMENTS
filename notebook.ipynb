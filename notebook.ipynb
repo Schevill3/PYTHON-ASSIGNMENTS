{
 "cells": [
  {
   "cell_type": "markdown",
   "metadata": {},
   "source": [
    "# CORD-19 Data Analysis (Notebook)"
   ]
  },
  {
   "cell_type": "code",
   "execution_count": null,
   "metadata": {},
   "outputs": [],
   "source": [
    "import pandas as pd\n",
    "import matplotlib.pyplot as plt\n",
    "import seaborn as sns\n",
    "from wordcloud import WordCloud\n",
    "\n",
    "# Load data\n",
    "df = pd.read_csv('metadata.csv')\n",
    "\n",
    "# Inspect\n",
    "print(df.shape)\n",
    "print(df.info())\n",
    "print(df.head())\n",
    "print(df.isnull().sum())\n",
    "\n",
    "# Clean\n",
    "df = df[['title', 'abstract', 'publish_time', 'authors', 'journal', 'source_x']]\n",
    "df['publish_time'] = pd.to_datetime(df['publish_time'], errors='coerce')\n",
    "df['year'] = df['publish_time'].dt.year\n",
    "df['abstract_word_count'] = df['abstract'].fillna('').apply(lambda x: len(x.split()))\n",
    "df = df.dropna(subset=['title', 'publish_time'])\n",
    "\n",
    "# Analysis\n",
    "year_counts = df['year'].value_counts().sort_index()\n",
    "year_counts.plot(kind='bar', title='Publications by Year')\n",
    "plt.show()\n",
    "\n",
    "top_journals = df['journal'].value_counts().head(10)\n",
    "sns.barplot(y=top_journals.index, x=top_journals.values)\n",
    "plt.title('Top Journals')\n",
    "plt.show()\n",
    "\n",
    "titles = ' '.join(df['title'].dropna())\n",
    "wordcloud = WordCloud(width=800, height=400, background_color='white').generate(titles)\n",
    "plt.imshow(wordcloud, interpolation='bilinear')\n",
    "plt.axis('off')\n",
    "plt.title('Word Cloud of Paper Titles')\n",
    "plt.show()"
   ]
  }
 ],
 "metadata": {
  "kernelspec": {
   "display_name": "Python 3",
   "language": "python",
   "name": "python3"
  },
  "language_info": {
   "name": "python",
   "version": "3.9"
  }
 },
 "nbformat": 4,
 "nbformat_minor": 5
}
